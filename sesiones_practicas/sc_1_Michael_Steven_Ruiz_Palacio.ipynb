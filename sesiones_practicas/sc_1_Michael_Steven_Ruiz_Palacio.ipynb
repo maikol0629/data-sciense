{
 "cells": [
  {
   "cell_type": "markdown",
   "id": "b1a984f2-0023-46cf-86c8-d8f10bd4059a",
   "metadata": {},
   "source": [
    "### 1. Presentación del problema de investigación\n",
    "\n",
    "¿Qué factores influyen en la asistencia de público a los partidos de la Copa del Mundo?\n",
    "\n",
    "### 2. Contexto: ¿Por qué es relevante este problema?\n",
    "\n",
    "La asistencia a los estadios es un indicador clave en el análisis de grandes eventos deportivos, ya que refleja no solo el interés por el fútbol, sino también la influencia de factores **sociales, culturales y económicos**. Comprender estos elementos es fundamental porque permite identificar las condiciones que favorecen o limitan la participación del público, lo cual impacta directamente en la **rentabilidad, la organización y la experiencia** de los asistentes.\n",
    "\n",
    "Entre los factores que podrían influir en la asistencia se encuentran:\n",
    "-   La etapa del torneo (fase de grupos, eliminatorias, finales).\n",
    "-   El país y la ciudad sede.\n",
    "-   La capacidad del estadio.\n",
    "-   Los equipos participantes.\n",
    "-   La relevancia histórica del partido.\n",
    "\n",
    "Aun así, la magnitud de la influencia de cada una de estas variables y su interacción sigue siendo un tema de debate, especialmente al comparar diferentes ediciones de la Copa del Mundo y contextos culturales diversos.\n",
    "\n",
    "### 3. Relación entre el problema y la base de datos\n",
    "\n",
    "Para abordar esta pregunta, se utilizará el conjunto de datos **World Cup Matches**, que contiene información detallada de los partidos de la Copa del Mundo, incluyendo el año, el estadio, la ciudad, los equipos, los goles, los árbitros y la **asistencia**.\n",
    "\n",
    "La variable `Attendance`, junto con variables contextuales como el estadio, la etapa y los equipos, permite analizar qué factores se asocian con la asistencia de público e identificar patrones que ayuden a comprender mejor la dinámica de los espectadores en este evento deportivo global."
   ]
  },
  {
   "cell_type": "code",
   "execution_count": 26,
   "id": "fadcda20-4653-4ae3-9b31-b2f90e2445a6",
   "metadata": {},
   "outputs": [],
   "source": [
    "import pandas as pd\n",
    "import seaborn as sns\n",
    "import matplotlib.pyplot as plt\n",
    "df = pd.read_csv(\"https://raw.githubusercontent.com/maikol0629/data-sciense/eee1779845363b0e21b06fa14e22666efae10113/data/WorldCupMatches.csv\")\n",
    "df1 = pd.read_csv(\"https://raw.githubusercontent.com/maikol0629/data-sciense/eee1779845363b0e21b06fa14e22666efae10113/data/WorldCupPlayers.csv\")\n",
    "df2 = pd.read_csv(\"https://raw.githubusercontent.com/maikol0629/data-sciense/eee1779845363b0e21b06fa14e22666efae10113/data/WorldCups.csv\")"
   ]
  },
  {
   "cell_type": "code",
   "execution_count": 7,
   "id": "0102eb58-32a2-4fa7-937a-99f034a7cd9e",
   "metadata": {},
   "outputs": [
    {
     "data": {
      "text/html": [
       "<div>\n",
       "<style scoped>\n",
       "    .dataframe tbody tr th:only-of-type {\n",
       "        vertical-align: middle;\n",
       "    }\n",
       "\n",
       "    .dataframe tbody tr th {\n",
       "        vertical-align: top;\n",
       "    }\n",
       "\n",
       "    .dataframe thead th {\n",
       "        text-align: right;\n",
       "    }\n",
       "</style>\n",
       "<table border=\"1\" class=\"dataframe\">\n",
       "  <thead>\n",
       "    <tr style=\"text-align: right;\">\n",
       "      <th></th>\n",
       "      <th>Year</th>\n",
       "      <th>Datetime</th>\n",
       "      <th>Stage</th>\n",
       "      <th>Stadium</th>\n",
       "      <th>City</th>\n",
       "      <th>Home Team Name</th>\n",
       "      <th>Home Team Goals</th>\n",
       "      <th>Away Team Goals</th>\n",
       "      <th>Away Team Name</th>\n",
       "      <th>Win conditions</th>\n",
       "      <th>Attendance</th>\n",
       "      <th>Half-time Home Goals</th>\n",
       "      <th>Half-time Away Goals</th>\n",
       "      <th>Referee</th>\n",
       "      <th>Assistant 1</th>\n",
       "      <th>Assistant 2</th>\n",
       "      <th>RoundID</th>\n",
       "      <th>MatchID</th>\n",
       "      <th>Home Team Initials</th>\n",
       "      <th>Away Team Initials</th>\n",
       "    </tr>\n",
       "  </thead>\n",
       "  <tbody>\n",
       "    <tr>\n",
       "      <th>0</th>\n",
       "      <td>1930.0</td>\n",
       "      <td>13 Jul 1930 - 15:00</td>\n",
       "      <td>Group 1</td>\n",
       "      <td>Pocitos</td>\n",
       "      <td>Montevideo</td>\n",
       "      <td>France</td>\n",
       "      <td>4.0</td>\n",
       "      <td>1.0</td>\n",
       "      <td>Mexico</td>\n",
       "      <td></td>\n",
       "      <td>4444.0</td>\n",
       "      <td>3.0</td>\n",
       "      <td>0.0</td>\n",
       "      <td>LOMBARDI Domingo (URU)</td>\n",
       "      <td>CRISTOPHE Henry (BEL)</td>\n",
       "      <td>REGO Gilberto (BRA)</td>\n",
       "      <td>201.0</td>\n",
       "      <td>1096.0</td>\n",
       "      <td>FRA</td>\n",
       "      <td>MEX</td>\n",
       "    </tr>\n",
       "    <tr>\n",
       "      <th>1</th>\n",
       "      <td>1930.0</td>\n",
       "      <td>13 Jul 1930 - 15:00</td>\n",
       "      <td>Group 4</td>\n",
       "      <td>Parque Central</td>\n",
       "      <td>Montevideo</td>\n",
       "      <td>USA</td>\n",
       "      <td>3.0</td>\n",
       "      <td>0.0</td>\n",
       "      <td>Belgium</td>\n",
       "      <td></td>\n",
       "      <td>18346.0</td>\n",
       "      <td>2.0</td>\n",
       "      <td>0.0</td>\n",
       "      <td>MACIAS Jose (ARG)</td>\n",
       "      <td>MATEUCCI Francisco (URU)</td>\n",
       "      <td>WARNKEN Alberto (CHI)</td>\n",
       "      <td>201.0</td>\n",
       "      <td>1090.0</td>\n",
       "      <td>USA</td>\n",
       "      <td>BEL</td>\n",
       "    </tr>\n",
       "    <tr>\n",
       "      <th>2</th>\n",
       "      <td>1930.0</td>\n",
       "      <td>14 Jul 1930 - 12:45</td>\n",
       "      <td>Group 2</td>\n",
       "      <td>Parque Central</td>\n",
       "      <td>Montevideo</td>\n",
       "      <td>Yugoslavia</td>\n",
       "      <td>2.0</td>\n",
       "      <td>1.0</td>\n",
       "      <td>Brazil</td>\n",
       "      <td></td>\n",
       "      <td>24059.0</td>\n",
       "      <td>2.0</td>\n",
       "      <td>0.0</td>\n",
       "      <td>TEJADA Anibal (URU)</td>\n",
       "      <td>VALLARINO Ricardo (URU)</td>\n",
       "      <td>BALWAY Thomas (FRA)</td>\n",
       "      <td>201.0</td>\n",
       "      <td>1093.0</td>\n",
       "      <td>YUG</td>\n",
       "      <td>BRA</td>\n",
       "    </tr>\n",
       "    <tr>\n",
       "      <th>3</th>\n",
       "      <td>1930.0</td>\n",
       "      <td>14 Jul 1930 - 14:50</td>\n",
       "      <td>Group 3</td>\n",
       "      <td>Pocitos</td>\n",
       "      <td>Montevideo</td>\n",
       "      <td>Romania</td>\n",
       "      <td>3.0</td>\n",
       "      <td>1.0</td>\n",
       "      <td>Peru</td>\n",
       "      <td></td>\n",
       "      <td>2549.0</td>\n",
       "      <td>1.0</td>\n",
       "      <td>0.0</td>\n",
       "      <td>WARNKEN Alberto (CHI)</td>\n",
       "      <td>LANGENUS Jean (BEL)</td>\n",
       "      <td>MATEUCCI Francisco (URU)</td>\n",
       "      <td>201.0</td>\n",
       "      <td>1098.0</td>\n",
       "      <td>ROU</td>\n",
       "      <td>PER</td>\n",
       "    </tr>\n",
       "    <tr>\n",
       "      <th>4</th>\n",
       "      <td>1930.0</td>\n",
       "      <td>15 Jul 1930 - 16:00</td>\n",
       "      <td>Group 1</td>\n",
       "      <td>Parque Central</td>\n",
       "      <td>Montevideo</td>\n",
       "      <td>Argentina</td>\n",
       "      <td>1.0</td>\n",
       "      <td>0.0</td>\n",
       "      <td>France</td>\n",
       "      <td></td>\n",
       "      <td>23409.0</td>\n",
       "      <td>0.0</td>\n",
       "      <td>0.0</td>\n",
       "      <td>REGO Gilberto (BRA)</td>\n",
       "      <td>SAUCEDO Ulises (BOL)</td>\n",
       "      <td>RADULESCU Constantin (ROU)</td>\n",
       "      <td>201.0</td>\n",
       "      <td>1085.0</td>\n",
       "      <td>ARG</td>\n",
       "      <td>FRA</td>\n",
       "    </tr>\n",
       "  </tbody>\n",
       "</table>\n",
       "</div>"
      ],
      "text/plain": [
       "     Year              Datetime    Stage         Stadium         City  \\\n",
       "0  1930.0  13 Jul 1930 - 15:00   Group 1         Pocitos  Montevideo    \n",
       "1  1930.0  13 Jul 1930 - 15:00   Group 4  Parque Central  Montevideo    \n",
       "2  1930.0  14 Jul 1930 - 12:45   Group 2  Parque Central  Montevideo    \n",
       "3  1930.0  14 Jul 1930 - 14:50   Group 3         Pocitos  Montevideo    \n",
       "4  1930.0  15 Jul 1930 - 16:00   Group 1  Parque Central  Montevideo    \n",
       "\n",
       "  Home Team Name  Home Team Goals  Away Team Goals Away Team Name  \\\n",
       "0         France              4.0              1.0         Mexico   \n",
       "1            USA              3.0              0.0        Belgium   \n",
       "2     Yugoslavia              2.0              1.0         Brazil   \n",
       "3        Romania              3.0              1.0           Peru   \n",
       "4      Argentina              1.0              0.0         France   \n",
       "\n",
       "  Win conditions  Attendance  Half-time Home Goals  Half-time Away Goals  \\\n",
       "0                     4444.0                   3.0                   0.0   \n",
       "1                    18346.0                   2.0                   0.0   \n",
       "2                    24059.0                   2.0                   0.0   \n",
       "3                     2549.0                   1.0                   0.0   \n",
       "4                    23409.0                   0.0                   0.0   \n",
       "\n",
       "                  Referee               Assistant 1  \\\n",
       "0  LOMBARDI Domingo (URU)     CRISTOPHE Henry (BEL)   \n",
       "1       MACIAS Jose (ARG)  MATEUCCI Francisco (URU)   \n",
       "2     TEJADA Anibal (URU)   VALLARINO Ricardo (URU)   \n",
       "3   WARNKEN Alberto (CHI)       LANGENUS Jean (BEL)   \n",
       "4     REGO Gilberto (BRA)      SAUCEDO Ulises (BOL)   \n",
       "\n",
       "                  Assistant 2  RoundID  MatchID Home Team Initials  \\\n",
       "0         REGO Gilberto (BRA)    201.0   1096.0                FRA   \n",
       "1       WARNKEN Alberto (CHI)    201.0   1090.0                USA   \n",
       "2         BALWAY Thomas (FRA)    201.0   1093.0                YUG   \n",
       "3    MATEUCCI Francisco (URU)    201.0   1098.0                ROU   \n",
       "4  RADULESCU Constantin (ROU)    201.0   1085.0                ARG   \n",
       "\n",
       "  Away Team Initials  \n",
       "0                MEX  \n",
       "1                BEL  \n",
       "2                BRA  \n",
       "3                PER  \n",
       "4                FRA  "
      ]
     },
     "execution_count": 7,
     "metadata": {},
     "output_type": "execute_result"
    }
   ],
   "source": [
    "##Sutil visualizacion de la bd\n",
    "df.head()"
   ]
  },
  {
   "cell_type": "code",
   "execution_count": 15,
   "id": "8cadcc9d-1490-4949-a0d0-0bb5fce47c4c",
   "metadata": {},
   "outputs": [
    {
     "data": {
      "text/plain": [
       "0        4444.0\n",
       "1       18346.0\n",
       "2       24059.0\n",
       "3        2549.0\n",
       "4       23409.0\n",
       "         ...   \n",
       "4567        NaN\n",
       "4568        NaN\n",
       "4569        NaN\n",
       "4570        NaN\n",
       "4571        NaN\n",
       "Name: Attendance, Length: 4572, dtype: float64"
      ]
     },
     "execution_count": 15,
     "metadata": {},
     "output_type": "execute_result"
    }
   ],
   "source": [
    "df[\"Attendance\"]"
   ]
  },
  {
   "cell_type": "code",
   "execution_count": 8,
   "id": "6f8f1241-e28f-4f1a-9c95-a5d1c5076274",
   "metadata": {},
   "outputs": [
    {
     "name": "stdout",
     "output_type": "stream",
     "text": [
      "Número de registros: 4572\n",
      "Número de variables: 20\n"
     ]
    }
   ],
   "source": [
    "# Número de registros y variables\n",
    "print(f\"Número de registros: {df.shape[0]}\")\n",
    "print(f\"Número de variables: {df.shape[1]}\")"
   ]
  },
  {
   "cell_type": "code",
   "execution_count": 9,
   "id": "8e935f72-f3e5-40a0-9bba-09195bd48b37",
   "metadata": {},
   "outputs": [
    {
     "name": "stdout",
     "output_type": "stream",
     "text": [
      "\n",
      "Tipos de datos por variable:\n",
      "object     12\n",
      "float64     8\n",
      "Name: count, dtype: int64\n"
     ]
    }
   ],
   "source": [
    "# Tipos de datos\n",
    "print(\"\\nTipos de datos por variable:\")\n",
    "print(df.dtypes.value_counts())"
   ]
  },
  {
   "cell_type": "code",
   "execution_count": 10,
   "id": "0c48553a-1637-4620-ae9d-5e0496590893",
   "metadata": {},
   "outputs": [
    {
     "name": "stdout",
     "output_type": "stream",
     "text": [
      "🔹 Variables categóricas:\n",
      "- Datetime\n",
      "- Stage\n",
      "- Stadium\n",
      "- City\n",
      "- Home Team Name\n",
      "- Away Team Name\n",
      "- Win conditions\n",
      "- Referee\n",
      "- Assistant 1\n",
      "- Assistant 2\n",
      "- Home Team Initials\n",
      "- Away Team Initials\n",
      "\n",
      "🔸 Variables numéricas:\n",
      "- Year\n",
      "- Home Team Goals\n",
      "- Away Team Goals\n",
      "- Attendance\n",
      "- Half-time Home Goals\n",
      "- Half-time Away Goals\n",
      "- RoundID\n",
      "- MatchID\n"
     ]
    }
   ],
   "source": [
    "# Clasificación de variables\n",
    "categoricas = df.select_dtypes(include=['object']).columns.tolist()\n",
    "numericas = df.select_dtypes(include=['int64', 'float64']).columns.tolist()\n",
    "\n",
    "print(\"🔹 Variables categóricas:\")\n",
    "print(\"\\n\".join([f\"- {col}\" for col in categoricas]))\n",
    "\n",
    "print(\"\\n🔸 Variables numéricas:\")\n",
    "print(\"\\n\".join([f\"- {col}\" for col in numericas]))"
   ]
  },
  {
   "cell_type": "code",
   "execution_count": 11,
   "id": "b2cde7bc-ee16-4964-84f4-cd46e6e7dbbf",
   "metadata": {},
   "outputs": [
    {
     "name": "stdout",
     "output_type": "stream",
     "text": [
      "\n",
      "Descripción de variables numéricas:\n",
      "              Year  Home Team Goals  Away Team Goals     Attendance  \\\n",
      "count   852.000000       852.000000       852.000000     850.000000   \n",
      "mean   1985.089202         1.811033         1.022300   45164.800000   \n",
      "std      22.448825         1.610255         1.087573   23485.249247   \n",
      "min    1930.000000         0.000000         0.000000    2000.000000   \n",
      "25%    1970.000000         1.000000         0.000000   30000.000000   \n",
      "50%    1990.000000         2.000000         1.000000   41579.500000   \n",
      "75%    2002.000000         3.000000         2.000000   61374.500000   \n",
      "max    2014.000000        10.000000         7.000000  173850.000000   \n",
      "\n",
      "       Half-time Home Goals  Half-time Away Goals       RoundID       MatchID  \n",
      "count            852.000000            852.000000  8.520000e+02  8.520000e+02  \n",
      "mean               0.708920              0.428404  1.066177e+07  6.134687e+07  \n",
      "std                0.937414              0.691252  2.729613e+07  1.110572e+08  \n",
      "min                0.000000              0.000000  2.010000e+02  2.500000e+01  \n",
      "25%                0.000000              0.000000  2.620000e+02  1.188750e+03  \n",
      "50%                0.000000              0.000000  3.370000e+02  2.191000e+03  \n",
      "75%                1.000000              1.000000  2.497220e+05  4.395006e+07  \n",
      "max                6.000000              5.000000  9.741060e+07  3.001865e+08  \n"
     ]
    }
   ],
   "source": [
    "# Descripción general\n",
    "print(\"\\nDescripción de variables numéricas:\")\n",
    "print(df.describe())"
   ]
  },
  {
   "cell_type": "code",
   "execution_count": 12,
   "id": "b5b4308e-68ed-451d-badc-b0fcd5fb830f",
   "metadata": {},
   "outputs": [
    {
     "name": "stdout",
     "output_type": "stream",
     "text": [
      "\n",
      "Conteo de valores faltantes por variable:\n",
      "Attendance              3722\n",
      "Datetime                3720\n",
      "Home Team Initials      3720\n",
      "MatchID                 3720\n",
      "RoundID                 3720\n",
      "Assistant 2             3720\n",
      "Assistant 1             3720\n",
      "Referee                 3720\n",
      "Half-time Away Goals    3720\n",
      "Half-time Home Goals    3720\n",
      "Year                    3720\n",
      "Win conditions          3720\n",
      "Away Team Name          3720\n",
      "Away Team Goals         3720\n",
      "Home Team Goals         3720\n",
      "Home Team Name          3720\n",
      "City                    3720\n",
      "Stadium                 3720\n",
      "Stage                   3720\n",
      "Away Team Initials      3720\n",
      "dtype: int64\n"
     ]
    }
   ],
   "source": [
    "# Conteo de valores faltantes ordenado de mayor a menor\n",
    "faltantes = df.isnull().sum().sort_values(ascending=False)\n",
    "\n",
    "print(\"\\nConteo de valores faltantes por variable:\")\n",
    "print(faltantes[faltantes > 0])  # Solo muestra variables con al menos un valor faltante"
   ]
  },
  {
   "cell_type": "code",
   "execution_count": 16,
   "id": "c9f42ffa-f554-44db-90b5-419911db4302",
   "metadata": {},
   "outputs": [
    {
     "name": "stdout",
     "output_type": "stream",
     "text": [
      "\n",
      "Conteo de valores únicos por variable:\n",
      "MatchID                 836\n",
      "Attendance              622\n",
      "Datetime                602\n",
      "Assistant 2             408\n",
      "Assistant 1             387\n",
      "Referee                 366\n",
      "Stadium                 181\n",
      "City                    151\n",
      "RoundID                 101\n",
      "Away Team Name           83\n",
      "Away Team Initials       82\n",
      "Home Team Name           78\n",
      "Home Team Initials       77\n",
      "Win conditions           43\n",
      "Stage                    23\n",
      "Year                     20\n",
      "Home Team Goals          11\n",
      "Half-time Home Goals      7\n",
      "Away Team Goals           7\n",
      "Half-time Away Goals      6\n",
      "dtype: int64\n"
     ]
    }
   ],
   "source": [
    "# Conteo de valores únicos por variable\n",
    "print(\"\\nConteo de valores únicos por variable:\")\n",
    "print(df.nunique().sort_values(ascending=False))"
   ]
  },
  {
   "cell_type": "code",
   "execution_count": 21,
   "id": "a7e15dfd-11d1-46c1-8886-cd48e5c92566",
   "metadata": {},
   "outputs": [
    {
     "name": "stdout",
     "output_type": "stream",
     "text": [
      "\n",
      "Vista rápida de variables clave:\n",
      "          Stadium         City    Stage Home Team Name Away Team Name  \\\n",
      "0         Pocitos  Montevideo   Group 1         France         Mexico   \n",
      "1  Parque Central  Montevideo   Group 4            USA        Belgium   \n",
      "2  Parque Central  Montevideo   Group 2     Yugoslavia         Brazil   \n",
      "3         Pocitos  Montevideo   Group 3        Romania           Peru   \n",
      "4  Parque Central  Montevideo   Group 1      Argentina         France   \n",
      "\n",
      "   Attendance  \n",
      "0      4444.0  \n",
      "1     18346.0  \n",
      "2     24059.0  \n",
      "3      2549.0  \n",
      "4     23409.0  \n",
      "\n",
      "Estadísticas descriptivas de variables clave:\n",
      "          Attendance\n",
      "count     850.000000\n",
      "mean    45164.800000\n",
      "std     23485.249247\n",
      "min      2000.000000\n",
      "25%     30000.000000\n",
      "50%     41579.500000\n",
      "75%     61374.500000\n",
      "max    173850.000000\n"
     ]
    }
   ],
   "source": [
    "# Variables más importantes \n",
    "variables_clave = ['Stadium', 'City', 'Stage', 'Home Team Name','Away Team Name', 'Attendance']\n",
    "print(\"\\nVista rápida de variables clave:\")\n",
    "print(df[variables_clave].head())\n",
    "# Vista rápida de las variables clave\n",
    "print(\"\\nEstadísticas descriptivas de variables clave:\")\n",
    "print(df[variables_clave].describe())"
   ]
  },
  {
   "cell_type": "code",
   "execution_count": 30,
   "id": "f38e6626-a759-4f80-8283-7c16259f4a72",
   "metadata": {},
   "outputs": [
    {
     "data": {
      "image/png": "[encoded data removed]",
      "text/plain": [
       "<Figure size 640x480 with 1 Axes>"
      ]
     },
     "metadata": {},
     "output_type": "display_data"
    }
   ],
   "source": [
    "# Histograma: distribución de edad\n",
    "sns.histplot(df['Attendance'], bins=6, kde=True, color='skyblue')\n",
    "plt.title(\"Distribución de asistencia a los partidos del mundial\")\n",
    "plt.xlabel(\"Attendance\")\n",
    "plt.ylabel(\"Frecuence\")\n",
    "plt.show()"
   ]
  },
  {
   "cell_type": "code",
   "execution_count": 35,
   "id": "c673a971-beb9-43b9-8f3e-1416713ffd49",
   "metadata": {},
   "outputs": [
    {
     "data": {
      "image/png": "[encoded data removed]",
      "text/plain": [
       "<Figure size 640x480 with 1 Axes>"
      ]
     },
     "metadata": {},
     "output_type": "display_data"
    }
   ],
   "source": [
    "# Gráfico de dispersión: calificación final vs ausencias\n",
    "sns.scatterplot(x='Year', y='Attendance', data=df)\n",
    "plt.title(\"Relación entre año y asistencia\")\n",
    "plt.xlabel(\"Año\")\n",
    "plt.ylabel(\"Asistencia\")\n",
    "plt.show()"
   ]
  },
  {
   "cell_type": "markdown",
   "id": "50cc0bcd-0d41-4cd2-821e-e1faa8b93990",
   "metadata": {},
   "source": [
    "## Conclusiones\n",
    "### \n",
    "##### 1.Todas las caraceteristicas tienen al menos 3720 muestras \n",
    "##### 2. Las mayor parte de la asistencia registrada oscila entre 25000 y 50000\n",
    "##### 3. Se cuenta con 8 caracteristicas categoricas y 12 caracteristicas numericas\n",
    "##### 4. Las graficas muestran que el pico más alto de asistencia fué entre el año 1940 y 1960\n",
    "\n",
    "##### Este primer acercamiento es bastante útil para las decisiones posterios sobre el dataset."
   ]
  },
  {
   "cell_type": "code",
   "execution_count": null,
   "id": "7aff2638-8c7d-498e-8734-19d004214c11",
   "metadata": {},
   "outputs": [],
   "source": []
  }
 ],
 "metadata": {
  "kernelspec": {
   "display_name": "Python 3 (ipykernel)",
   "language": "python",
   "name": "python3"
  },
  "language_info": {
   "codemirror_mode": {
    "name": "ipython",
    "version": 3
   },
   "file_extension": ".py",
   "mimetype": "text/x-python",
   "name": "python",
   "nbconvert_exporter": "python",
   "pygments_lexer": "ipython3",
   "version": "3.11.6"
  }
 },
 "nbformat": 4,
 "nbformat_minor": 5
}
