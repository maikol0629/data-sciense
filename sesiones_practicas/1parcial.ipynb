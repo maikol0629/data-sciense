{
 "cells": [
  {
   "cell_type": "code",
   "execution_count": 3,
   "id": "03ba11df",
   "metadata": {},
   "outputs": [
    {
     "name": "stdout",
     "output_type": "stream",
     "text": [
      "Collecting unidecode\n",
      "  Downloading Unidecode-1.4.0-py3-none-any.whl.metadata (13 kB)\n",
      "Downloading Unidecode-1.4.0-py3-none-any.whl (235 kB)\n",
      "Installing collected packages: unidecode\n",
      "Successfully installed unidecode-1.4.0\n"
     ]
    }
   ],
   "source": [
    "!pip install unidecode"
   ]
  },
  {
   "cell_type": "code",
   "execution_count": 4,
   "id": "eda4d89c-7096-4aa0-b5fb-5581090994ef",
   "metadata": {},
   "outputs": [],
   "source": [
    "import pandas as pd\n",
    "import numpy as np\n",
    "import unidecode"
   ]
  },
  {
   "cell_type": "markdown",
   "id": "e142e45c-cc79-4eef-997f-015a69fa24d6",
   "metadata": {},
   "source": [
    "'''\n",
    "### Ejercicio 1. Limpieza e imputación de un conjunto de datos mixto\n",
    " Instrucciones\n",
    "Crea el DataFrame base df ejecutando el siguiente código:\n",
    "\n",
    "df = pd.DataFrame({\n",
    "    'Nombre': ['Ana', 'Luis', 'Pedro', None, 'Marta', 'Luis', 'Sofía'],\n",
    "    'Edad': [25, np.nan, 35, 29, -5, 25, None],\n",
    "    'Ciudad': ['Bogotá', 'Medellín', None, 'Medellín', 'Cali', 'Bogotá', 'Cali'],\n",
    "    'Ingreso': [3500, 4800, np.nan, 5200, 5100, np.nan, 4700],\n",
    "    'FechaIngreso': ['2023-01-01', '2023-01-05', None, '2023-01-10', '2023-01-12', None, '2023-01-15']\n",
    "})\n",
    "En un nuevo notebook, aplica las etapas del proceso de limpieza e imputación de datos que consideres necesarias sobre el DataFrame df. Ten encuenta incluir:\n",
    "\n",
    "Código correctamente comentado y ejecutado.\n",
    "Explicaciones breves de cada paso.\n",
    "Resultados visuales o estadísticos que evidencien las transformaciones.\n",
    "'''"
   ]
  },
  {
   "cell_type": "code",
   "execution_count": 33,
   "id": "446097a5-32e2-410b-8df7-caf8b698481c",
   "metadata": {},
   "outputs": [],
   "source": [
    "df = pd.DataFrame({ 'Nombre': ['Ana', 'Luis', 'Pedro', None, 'Marta', 'Luis', 'Sofía'], 'Edad': [25, np.nan, 35, 29, -5, 25, None], 'Ciudad': ['Bogotá', 'Medellín', None, 'Medellín', 'Cali', 'Bogotá', 'Cali'], 'Ingreso': [3500, 4800, np.nan, 5200, 5100, np.nan, 4700], 'FechaIngreso': ['2023-01-01', '2023-01-05', None, '2023-01-10', '2023-01-12', None, '2023-01-15'] })"
   ]
  },
  {
   "cell_type": "code",
   "execution_count": 26,
   "id": "343a4e92-1da9-4eaf-927d-23c9628a5034",
   "metadata": {},
   "outputs": [
    {
     "name": "stdout",
     "output_type": "stream",
     "text": [
      "<class 'pandas.core.frame.DataFrame'>\n",
      "RangeIndex: 7 entries, 0 to 6\n",
      "Data columns (total 5 columns):\n",
      " #   Column        Non-Null Count  Dtype         \n",
      "---  ------        --------------  -----         \n",
      " 0   Nombre        7 non-null      object        \n",
      " 1   Edad          7 non-null      float64       \n",
      " 2   Ciudad        7 non-null      object        \n",
      " 3   Ingreso       7 non-null      float64       \n",
      " 4   FechaIngreso  7 non-null      datetime64[ns]\n",
      "dtypes: datetime64[ns](1), float64(2), object(2)\n",
      "memory usage: 412.0+ bytes\n"
     ]
    }
   ],
   "source": [
    "## Primero nos hacemos una idea de los datos que vamos a manipular\n",
    "df.info()"
   ]
  },
  {
   "cell_type": "code",
   "execution_count": 34,
   "id": "8d25a2c7-35d5-4ea9-a1f0-e6d2b0f093d5",
   "metadata": {},
   "outputs": [
    {
     "data": {
      "text/html": [
       "<div>\n",
       "<style scoped>\n",
       "    .dataframe tbody tr th:only-of-type {\n",
       "        vertical-align: middle;\n",
       "    }\n",
       "\n",
       "    .dataframe tbody tr th {\n",
       "        vertical-align: top;\n",
       "    }\n",
       "\n",
       "    .dataframe thead th {\n",
       "        text-align: right;\n",
       "    }\n",
       "</style>\n",
       "<table border=\"1\" class=\"dataframe\">\n",
       "  <thead>\n",
       "    <tr style=\"text-align: right;\">\n",
       "      <th></th>\n",
       "      <th>Nombre</th>\n",
       "      <th>Edad</th>\n",
       "      <th>Ciudad</th>\n",
       "      <th>Ingreso</th>\n",
       "      <th>FechaIngreso</th>\n",
       "    </tr>\n",
       "  </thead>\n",
       "  <tbody>\n",
       "    <tr>\n",
       "      <th>0</th>\n",
       "      <td>Ana</td>\n",
       "      <td>25.0</td>\n",
       "      <td>Bogotá</td>\n",
       "      <td>3500.0</td>\n",
       "      <td>2023-01-01</td>\n",
       "    </tr>\n",
       "    <tr>\n",
       "      <th>1</th>\n",
       "      <td>Luis</td>\n",
       "      <td>NaN</td>\n",
       "      <td>Medellín</td>\n",
       "      <td>4800.0</td>\n",
       "      <td>2023-01-05</td>\n",
       "    </tr>\n",
       "    <tr>\n",
       "      <th>2</th>\n",
       "      <td>Pedro</td>\n",
       "      <td>35.0</td>\n",
       "      <td>None</td>\n",
       "      <td>NaN</td>\n",
       "      <td>None</td>\n",
       "    </tr>\n",
       "    <tr>\n",
       "      <th>3</th>\n",
       "      <td>None</td>\n",
       "      <td>29.0</td>\n",
       "      <td>Medellín</td>\n",
       "      <td>5200.0</td>\n",
       "      <td>2023-01-10</td>\n",
       "    </tr>\n",
       "    <tr>\n",
       "      <th>4</th>\n",
       "      <td>Marta</td>\n",
       "      <td>-5.0</td>\n",
       "      <td>Cali</td>\n",
       "      <td>5100.0</td>\n",
       "      <td>2023-01-12</td>\n",
       "    </tr>\n",
       "  </tbody>\n",
       "</table>\n",
       "</div>"
      ],
      "text/plain": [
       "  Nombre  Edad    Ciudad  Ingreso FechaIngreso\n",
       "0    Ana  25.0    Bogotá   3500.0   2023-01-01\n",
       "1   Luis   NaN  Medellín   4800.0   2023-01-05\n",
       "2  Pedro  35.0      None      NaN         None\n",
       "3   None  29.0  Medellín   5200.0   2023-01-10\n",
       "4  Marta  -5.0      Cali   5100.0   2023-01-12"
      ]
     },
     "execution_count": 34,
     "metadata": {},
     "output_type": "execute_result"
    }
   ],
   "source": [
    "df.head()"
   ]
  },
  {
   "cell_type": "code",
   "execution_count": 31,
   "id": "1304e810-4c0a-4e06-b5b3-af59c41a8522",
   "metadata": {},
   "outputs": [
    {
     "data": {
      "text/plain": [
       "Nombre          1\n",
       "Edad            2\n",
       "Ciudad          1\n",
       "Ingreso         2\n",
       "FechaIngreso    2\n",
       "dtype: int64"
      ]
     },
     "execution_count": 31,
     "metadata": {},
     "output_type": "execute_result"
    }
   ],
   "source": [
    "## Contamos la cantidad de datos faltantes\n",
    "df.isnull().sum()"
   ]
  },
  {
   "cell_type": "code",
   "execution_count": 35,
   "id": "b6b86ac3-9159-4cda-bd2b-d864f5ffa803",
   "metadata": {},
   "outputs": [
    {
     "name": "stdout",
     "output_type": "stream",
     "text": [
      "0      Ana\n",
      "1     Luis\n",
      "2    Pedro\n",
      "3     None\n",
      "4    Marta\n",
      "5     Luis\n",
      "6    Sofía\n",
      "Name: Nombre, dtype: object\n"
     ]
    },
    {
     "data": {
      "text/plain": [
       "0           Ana\n",
       "1          Luis\n",
       "2         Pedro\n",
       "3    Sin nombre\n",
       "4         Marta\n",
       "5          Luis\n",
       "6         Sofía\n",
       "Name: Nombre, dtype: object"
      ]
     },
     "execution_count": 35,
     "metadata": {},
     "output_type": "execute_result"
    }
   ],
   "source": [
    "## Limpiamos la columna nombre con un texto genérico\n",
    "print(df['Nombre'])\n",
    "df['Nombre'] = df['Nombre'].fillna('Sin nombre')\n",
    "df['Nombre']"
   ]
  },
  {
   "cell_type": "code",
   "execution_count": 36,
   "id": "beef4d04-0b3a-4f74-b7c4-2187746280a7",
   "metadata": {},
   "outputs": [
    {
     "name": "stdout",
     "output_type": "stream",
     "text": [
      "0    25.0\n",
      "1     NaN\n",
      "2    35.0\n",
      "3    29.0\n",
      "4    -5.0\n",
      "5    25.0\n",
      "6     NaN\n",
      "Name: Edad, dtype: float64\n"
     ]
    },
    {
     "data": {
      "text/plain": [
       "0    25.0\n",
       "1    25.0\n",
       "2    35.0\n",
       "3    29.0\n",
       "4    -5.0\n",
       "5    25.0\n",
       "6    25.0\n",
       "Name: Edad, dtype: float64"
      ]
     },
     "execution_count": 36,
     "metadata": {},
     "output_type": "execute_result"
    }
   ],
   "source": [
    "## Ahora limpiaremos la edad con la mediana\n",
    "print(df['Edad'])\n",
    "df['Edad']= df['Edad'].fillna(df['Edad'].median())\n",
    "df['Edad']"
   ]
  },
  {
   "cell_type": "code",
   "execution_count": 37,
   "id": "f10f6109-6fc3-44b8-88f3-9dcd33dcb7e9",
   "metadata": {},
   "outputs": [
    {
     "name": "stdout",
     "output_type": "stream",
     "text": [
      "0      Bogotá\n",
      "1    Medellín\n",
      "2        None\n",
      "3    Medellín\n",
      "4        Cali\n",
      "5      Bogotá\n",
      "6        Cali\n",
      "Name: Ciudad, dtype: object\n"
     ]
    },
    {
     "data": {
      "text/plain": [
       "0      Bogotá\n",
       "1    Medellín\n",
       "2      Bogotá\n",
       "3    Medellín\n",
       "4        Cali\n",
       "5      Bogotá\n",
       "6        Cali\n",
       "Name: Ciudad, dtype: object"
      ]
     },
     "execution_count": 37,
     "metadata": {},
     "output_type": "execute_result"
    }
   ],
   "source": [
    "## Limpiamos la ciudad con ayuda de la moda\n",
    "print(df['Ciudad'])\n",
    "moda = df['Ciudad'].mode()[0]\n",
    "df['Ciudad'] = df['Ciudad'].fillna(moda)\n",
    "df['Ciudad']"
   ]
  },
  {
   "cell_type": "code",
   "execution_count": 38,
   "id": "408896ec-c2ab-4796-8b48-aeedd5cdbd35",
   "metadata": {},
   "outputs": [
    {
     "name": "stdout",
     "output_type": "stream",
     "text": [
      "0    3500.0\n",
      "1    4800.0\n",
      "2       NaN\n",
      "3    5200.0\n",
      "4    5100.0\n",
      "5       NaN\n",
      "6    4700.0\n",
      "Name: Ingreso, dtype: float64\n"
     ]
    },
    {
     "data": {
      "text/plain": [
       "0    3500.0\n",
       "1    4800.0\n",
       "2    4660.0\n",
       "3    5200.0\n",
       "4    5100.0\n",
       "5    4660.0\n",
       "6    4700.0\n",
       "Name: Ingreso, dtype: float64"
      ]
     },
     "execution_count": 38,
     "metadata": {},
     "output_type": "execute_result"
    }
   ],
   "source": [
    "## Los ingresos se limpian con la media de sus valores\n",
    "print(df['Ingreso'])\n",
    "df['Ingreso'] = df['Ingreso'].fillna(df['Ingreso'].mean())\n",
    "df['Ingreso']"
   ]
  },
  {
   "cell_type": "code",
   "execution_count": 39,
   "id": "9e38809d-be2f-41ec-bd2d-c091bd322589",
   "metadata": {},
   "outputs": [
    {
     "name": "stdout",
     "output_type": "stream",
     "text": [
      "0    2023-01-01\n",
      "1    2023-01-05\n",
      "2          None\n",
      "3    2023-01-10\n",
      "4    2023-01-12\n",
      "5          None\n",
      "6    2023-01-15\n",
      "Name: FechaIngreso, dtype: object\n"
     ]
    },
    {
     "data": {
      "text/plain": [
       "0   2023-01-01\n",
       "1   2023-01-05\n",
       "2   2023-01-10\n",
       "3   2023-01-10\n",
       "4   2023-01-12\n",
       "5   2023-01-10\n",
       "6   2023-01-15\n",
       "Name: FechaIngreso, dtype: datetime64[ns]"
      ]
     },
     "execution_count": 39,
     "metadata": {},
     "output_type": "execute_result"
    }
   ],
   "source": [
    "## Para la fecha de ingreso convertimos los datos a dateTime para calcular la media e imputar\n",
    "print(df['FechaIngreso'])\n",
    "df['FechaIngreso'] = pd.to_datetime(df['FechaIngreso'])\n",
    "median_date = df['FechaIngreso'].dropna().median()\n",
    "df['FechaIngreso'] = df['FechaIngreso'].fillna(median_date)\n",
    "df['FechaIngreso']"
   ]
  },
  {
   "cell_type": "markdown",
   "id": "56ece533-29f5-426c-bbc5-fc03c0268198",
   "metadata": {},
   "source": [
    "'''\n",
    "### Ejercicio 2. Limpieza de duplicados\n",
    "¿Cuál es el total de registros originales?\n",
    "¿Cuáles y cuántos son los duplicados exactos?\n",
    "¿Cuáles y cuántos son los duplicados por varias columnas?\n",
    "¿Cuántos registros debes eliminar?\n",
    "¿Cuántos registros quedan después de la limpieza?\n",
    "\n",
    "\n",
    "'''"
   ]
  },
  {
   "cell_type": "code",
   "execution_count": 61,
   "id": "e45ef38d-f7cf-491d-abcc-49e9a992c1fd",
   "metadata": {},
   "outputs": [],
   "source": [
    "df = pd.DataFrame({ 'ID': [101, 102, 102, 103, 104, 104, 104], 'Nombre': ['Ana', 'Luis', 'Luis', 'Marta', 'Carlos', 'Carlos', 'Carlos'], 'Edad': [25, 30, 30, 29, 40, 40, 41], 'Ciudad': ['Bogotá', 'Cali', 'Cali', 'Medellín', 'Cali', 'Cali', 'Cali'], 'FechaRegistro': ['2023-01-01', '2023-01-05', '2023-01-05', '2023-01-10', '2023-01-15', '2023-01-15', '2023-01-16'] })"
   ]
  },
  {
   "cell_type": "code",
   "execution_count": 62,
   "id": "b765cee2-030c-44e4-b3e4-b95b195938ca",
   "metadata": {},
   "outputs": [
    {
     "data": {
      "text/plain": [
       "(7, 5)"
      ]
     },
     "execution_count": 62,
     "metadata": {},
     "output_type": "execute_result"
    }
   ],
   "source": [
    "df.shape"
   ]
  },
  {
   "cell_type": "code",
   "execution_count": 63,
   "id": "9ff86c39-3cb3-48c4-88b9-777306845c6f",
   "metadata": {},
   "outputs": [
    {
     "data": {
      "text/html": [
       "<div>\n",
       "<style scoped>\n",
       "    .dataframe tbody tr th:only-of-type {\n",
       "        vertical-align: middle;\n",
       "    }\n",
       "\n",
       "    .dataframe tbody tr th {\n",
       "        vertical-align: top;\n",
       "    }\n",
       "\n",
       "    .dataframe thead th {\n",
       "        text-align: right;\n",
       "    }\n",
       "</style>\n",
       "<table border=\"1\" class=\"dataframe\">\n",
       "  <thead>\n",
       "    <tr style=\"text-align: right;\">\n",
       "      <th></th>\n",
       "      <th>ID</th>\n",
       "      <th>Nombre</th>\n",
       "      <th>Edad</th>\n",
       "      <th>Ciudad</th>\n",
       "      <th>FechaRegistro</th>\n",
       "    </tr>\n",
       "  </thead>\n",
       "  <tbody>\n",
       "    <tr>\n",
       "      <th>0</th>\n",
       "      <td>101</td>\n",
       "      <td>Ana</td>\n",
       "      <td>25</td>\n",
       "      <td>Bogotá</td>\n",
       "      <td>2023-01-01</td>\n",
       "    </tr>\n",
       "    <tr>\n",
       "      <th>1</th>\n",
       "      <td>102</td>\n",
       "      <td>Luis</td>\n",
       "      <td>30</td>\n",
       "      <td>Cali</td>\n",
       "      <td>2023-01-05</td>\n",
       "    </tr>\n",
       "    <tr>\n",
       "      <th>2</th>\n",
       "      <td>102</td>\n",
       "      <td>Luis</td>\n",
       "      <td>30</td>\n",
       "      <td>Cali</td>\n",
       "      <td>2023-01-05</td>\n",
       "    </tr>\n",
       "    <tr>\n",
       "      <th>3</th>\n",
       "      <td>103</td>\n",
       "      <td>Marta</td>\n",
       "      <td>29</td>\n",
       "      <td>Medellín</td>\n",
       "      <td>2023-01-10</td>\n",
       "    </tr>\n",
       "    <tr>\n",
       "      <th>4</th>\n",
       "      <td>104</td>\n",
       "      <td>Carlos</td>\n",
       "      <td>40</td>\n",
       "      <td>Cali</td>\n",
       "      <td>2023-01-15</td>\n",
       "    </tr>\n",
       "  </tbody>\n",
       "</table>\n",
       "</div>"
      ],
      "text/plain": [
       "    ID  Nombre  Edad    Ciudad FechaRegistro\n",
       "0  101     Ana    25    Bogotá    2023-01-01\n",
       "1  102    Luis    30      Cali    2023-01-05\n",
       "2  102    Luis    30      Cali    2023-01-05\n",
       "3  103   Marta    29  Medellín    2023-01-10\n",
       "4  104  Carlos    40      Cali    2023-01-15"
      ]
     },
     "execution_count": 63,
     "metadata": {},
     "output_type": "execute_result"
    }
   ],
   "source": [
    "df.head()"
   ]
  },
  {
   "cell_type": "code",
   "execution_count": 64,
   "id": "f2c1ab52-987d-4cbd-981c-f0bd2de6889d",
   "metadata": {},
   "outputs": [
    {
     "name": "stdout",
     "output_type": "stream",
     "text": [
      "Total de registros originales: 7\n"
     ]
    }
   ],
   "source": [
    "## total de registro originales\n",
    "total_registros = len(df)\n",
    "print(\"Total de registros originales:\", total_registros)\n"
   ]
  },
  {
   "cell_type": "code",
   "execution_count": 65,
   "id": "cc4ad783-c1c1-4639-a323-63c752ffa017",
   "metadata": {},
   "outputs": [
    {
     "name": "stdout",
     "output_type": "stream",
     "text": [
      "Duplicados exactos encontrados:\n",
      "    ID  Nombre  Edad Ciudad FechaRegistro\n",
      "1  102    Luis    30   Cali    2023-01-05\n",
      "2  102    Luis    30   Cali    2023-01-05\n",
      "4  104  Carlos    40   Cali    2023-01-15\n",
      "5  104  Carlos    40   Cali    2023-01-15\n",
      "Cantidad de duplicados exactos: 2\n"
     ]
    }
   ],
   "source": [
    "## Detectar duplicados exactos\n",
    "duplicados_exactos = df[df.duplicated(keep=False)]\n",
    "\n",
    "## Mostrar duplicados exactos\n",
    "print(\"Duplicados exactos encontrados:\")\n",
    "print(duplicados_exactos)\n",
    "\n",
    "## Contar duplicados (sin repetir)\n",
    "total_duplicados_exactos = df.duplicated().sum()\n",
    "print(\"Cantidad de duplicados exactos:\", total_duplicados_exactos)"
   ]
  },
  {
   "cell_type": "code",
   "execution_count": 70,
   "id": "9690bf61-17ca-4d04-9ebd-3cc7dc78bcfe",
   "metadata": {},
   "outputs": [
    {
     "name": "stdout",
     "output_type": "stream",
     "text": [
      "Duplicados por columnas (ID, Edad, Fecha de Registro):\n",
      "    ID  Nombre  Edad Ciudad FechaRegistro\n",
      "1  102    Luis    30   Cali    2023-01-05\n",
      "2  102    Luis    30   Cali    2023-01-05\n",
      "4  104  Carlos    40   Cali    2023-01-15\n",
      "5  104  Carlos    40   Cali    2023-01-15\n",
      "Cantidad de duplicados por columnas: 2\n"
     ]
    }
   ],
   "source": [
    "## Detectar duplicados por columnas\n",
    "cols = ['ID', 'Edad', 'FechaRegistro']\n",
    "duplicados_parciales = df[df.duplicated(subset=cols, keep=False)]\n",
    "\n",
    "print(\"Duplicados por columnas (ID, Edad, Fecha de Registro):\")\n",
    "print(duplicados_parciales)\n",
    "\n",
    "## Contar duplicados parciales (sin repetir)\n",
    "total_duplicados_parciales = df.duplicated(subset=cols).sum()\n",
    "print(\"Cantidad de duplicados por columnas:\", total_duplicados_parciales)\n"
   ]
  },
  {
   "cell_type": "code",
   "execution_count": 71,
   "id": "f3e025cf-fdd4-4d17-9b94-c05820c0c478",
   "metadata": {},
   "outputs": [
    {
     "name": "stdout",
     "output_type": "stream",
     "text": [
      "Registros eliminados: 2\n"
     ]
    }
   ],
   "source": [
    "## Eliminar duplicados exactos\n",
    "df_sin_duplicados = df.drop_duplicates()\n",
    "\n",
    "registros_eliminados = total_registros - len(df_sin_duplicados)\n",
    "print(\"Registros eliminados:\", registros_eliminados)\n"
   ]
  },
  {
   "cell_type": "code",
   "execution_count": 72,
   "id": "ffd21543-30f4-4a57-b26f-c2c2d3c35eb5",
   "metadata": {},
   "outputs": [
    {
     "name": "stdout",
     "output_type": "stream",
     "text": [
      "Registros después de la limpieza (sin duplicados): 5\n"
     ]
    }
   ],
   "source": [
    "print(\"Registros después de la limpieza (sin duplicados):\", len(df_sin_duplicados))\n"
   ]
  },
  {
   "cell_type": "code",
   "execution_count": 67,
   "id": "4823f2fc-b387-45c0-a63f-151d98e6e4b7",
   "metadata": {},
   "outputs": [
    {
     "data": {
      "text/html": [
       "<div>\n",
       "<style scoped>\n",
       "    .dataframe tbody tr th:only-of-type {\n",
       "        vertical-align: middle;\n",
       "    }\n",
       "\n",
       "    .dataframe tbody tr th {\n",
       "        vertical-align: top;\n",
       "    }\n",
       "\n",
       "    .dataframe thead th {\n",
       "        text-align: right;\n",
       "    }\n",
       "</style>\n",
       "<table border=\"1\" class=\"dataframe\">\n",
       "  <thead>\n",
       "    <tr style=\"text-align: right;\">\n",
       "      <th></th>\n",
       "      <th>ID</th>\n",
       "      <th>Nombre</th>\n",
       "      <th>Edad</th>\n",
       "      <th>Ciudad</th>\n",
       "      <th>FechaRegistro</th>\n",
       "    </tr>\n",
       "  </thead>\n",
       "  <tbody>\n",
       "    <tr>\n",
       "      <th>0</th>\n",
       "      <td>101</td>\n",
       "      <td>Ana</td>\n",
       "      <td>25</td>\n",
       "      <td>Bogotá</td>\n",
       "      <td>2023-01-01</td>\n",
       "    </tr>\n",
       "    <tr>\n",
       "      <th>1</th>\n",
       "      <td>102</td>\n",
       "      <td>Luis</td>\n",
       "      <td>30</td>\n",
       "      <td>Cali</td>\n",
       "      <td>2023-01-05</td>\n",
       "    </tr>\n",
       "    <tr>\n",
       "      <th>3</th>\n",
       "      <td>103</td>\n",
       "      <td>Marta</td>\n",
       "      <td>29</td>\n",
       "      <td>Medellín</td>\n",
       "      <td>2023-01-10</td>\n",
       "    </tr>\n",
       "    <tr>\n",
       "      <th>4</th>\n",
       "      <td>104</td>\n",
       "      <td>Carlos</td>\n",
       "      <td>40</td>\n",
       "      <td>Cali</td>\n",
       "      <td>2023-01-15</td>\n",
       "    </tr>\n",
       "    <tr>\n",
       "      <th>6</th>\n",
       "      <td>104</td>\n",
       "      <td>Carlos</td>\n",
       "      <td>41</td>\n",
       "      <td>Cali</td>\n",
       "      <td>2023-01-16</td>\n",
       "    </tr>\n",
       "  </tbody>\n",
       "</table>\n",
       "</div>"
      ],
      "text/plain": [
       "    ID  Nombre  Edad    Ciudad FechaRegistro\n",
       "0  101     Ana    25    Bogotá    2023-01-01\n",
       "1  102    Luis    30      Cali    2023-01-05\n",
       "3  103   Marta    29  Medellín    2023-01-10\n",
       "4  104  Carlos    40      Cali    2023-01-15\n",
       "6  104  Carlos    41      Cali    2023-01-16"
      ]
     },
     "execution_count": 67,
     "metadata": {},
     "output_type": "execute_result"
    }
   ],
   "source": [
    "df_sin_duplicados.head()"
   ]
  },
  {
   "cell_type": "code",
   "execution_count": 68,
   "id": "a03f3cc2-fba7-4216-85bc-64e90240b04b",
   "metadata": {},
   "outputs": [
    {
     "data": {
      "text/plain": [
       "(5, 5)"
      ]
     },
     "execution_count": 68,
     "metadata": {},
     "output_type": "execute_result"
    }
   ],
   "source": [
    "df_sin_duplicados.shape"
   ]
  },
  {
   "cell_type": "markdown",
   "id": "63e78387-178a-4a1f-b138-f051652ba82b",
   "metadata": {},
   "source": [
    "''' \n",
    "### Ejercicio 3. Corrección de errores tipográficos o de codificación\n",
    "estandariza la variable ciudad utilizando python.\n",
    "'''"
   ]
  },
  {
   "cell_type": "code",
   "execution_count": 6,
   "id": "c608e921-58f8-41e9-8ab0-2bc5d9b97763",
   "metadata": {},
   "outputs": [],
   "source": [
    "\n",
    "df = pd.DataFrame({\n",
    "    'Ciudad': ['bogota', 'Bogotá', 'BOGOTA', 'bogotá', 'bogata', 'Bógota', 'BogoTa', 'Cali', 'calí', 'medellín', 'medellin']\n",
    "})"
   ]
  },
  {
   "cell_type": "code",
   "execution_count": null,
   "id": "f704787c-fa0b-4a5c-a999-4e641ff2bacc",
   "metadata": {},
   "outputs": [
    {
     "name": "stdout",
     "output_type": "stream",
     "text": [
      "      Ciudad Ciudad_limpia\n",
      "0     bogota        bogota\n",
      "1     Bogotá        bogota\n",
      "2     BOGOTA        bogota\n",
      "3     bogotá        bogota\n",
      "4     bogata        bogota\n",
      "5     Bógota        bogota\n",
      "6     BogoTa        bogota\n",
      "7       Cali          cali\n",
      "8       calí          cali\n",
      "9   medellín      medellin\n",
      "10  medellin      medellin\n"
     ]
    }
   ],
   "source": [
    "## 1️ Pasar todo a minúsculas\n",
    "df['Ciudad_limpia'] = df['Ciudad'].str.lower()\n",
    "\n",
    "## 2️ Eliminar tildes y caracteres especiales\n",
    "df['Ciudad_limpia'] = df['Ciudad_limpia'].apply(lambda x: unidecode.unidecode(x))\n",
    "\n",
    "## 3️ Corregir errores comunes de escritura con reemplazos manuales con errores tipicos\n",
    "df['Ciudad_limpia'] = df['Ciudad_limpia'].replace({\n",
    "    'bogata': 'bogota',    \n",
    "    'bogo ta': 'bogota',   \n",
    "    'calí': 'cali',\n",
    "    'medellin': 'medellin'\n",
    "})\n",
    "\n",
    "print(df)"
   ]
  }
 ],
 "metadata": {
  "kernelspec": {
   "display_name": ".venv",
   "language": "python",
   "name": "python3"
  },
  "language_info": {
   "codemirror_mode": {
    "name": "ipython",
    "version": 3
   },
   "file_extension": ".py",
   "mimetype": "text/x-python",
   "name": "python",
   "nbconvert_exporter": "python",
   "pygments_lexer": "ipython3",
   "version": "3.11.2"
  }
 },
 "nbformat": 4,
 "nbformat_minor": 5
}
